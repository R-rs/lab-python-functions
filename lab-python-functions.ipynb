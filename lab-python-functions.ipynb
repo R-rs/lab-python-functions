{
 "cells": [
  {
   "cell_type": "markdown",
   "id": "25d7736c-ba17-4aff-b6bb-66eba20fbf4e",
   "metadata": {},
   "source": [
    "# Lab | Functions"
   ]
  },
  {
   "cell_type": "markdown",
   "id": "0c581062-8967-4d93-b06e-62833222f930",
   "metadata": {
    "tags": []
   },
   "source": [
    "## Exercise: Managing Customer Orders with Functions\n",
    "\n",
    "In the previous exercise, you improved the code for managing customer orders by using loops and flow control. Now, let's take it a step further and refactor the code by introducing functions.\n",
    "\n",
    "Follow the steps below to complete the exercise:\n",
    "\n",
    "1. Define a function named `initialize_inventory` that takes `products` as a parameter. Inside the function, implement the code for initializing the inventory dictionary using a loop and user input.\n",
    "\n",
    "2. Define a function named `get_customer_orders` that takes no parameters. Inside the function, implement the code for prompting the user to enter the product names using a loop. The function should return the `customer_orders` set.\n",
    "\n",
    "3. Define a function named `update_inventory` that takes `customer_orders` and `inventory` as parameters. Inside the function, implement the code for updating the inventory dictionary based on the customer orders.\n",
    "\n",
    "4. Define a function named `calculate_order_statistics` that takes `customer_orders` and `products` as parameters. Inside the function, implement the code for calculating the order statistics (total products ordered, and percentage of unique products ordered). The function should return these values.\n",
    "\n",
    "5. Define a function named `print_order_statistics` that takes `order_statistics` as a parameter. Inside the function, implement the code for printing the order statistics.\n",
    "\n",
    "6. Define a function named `print_updated_inventory` that takes `inventory` as a parameter. Inside the function, implement the code for printing the updated inventory.\n",
    "\n",
    "7. Call the functions in the appropriate sequence to execute the program and manage customer orders.\n",
    "\n",
    "Hints for functions:\n",
    "\n",
    "- Consider the input parameters required for each function and their return values.\n",
    "- Utilize function parameters and return values to transfer data between functions.\n",
    "- Test your functions individually to ensure they work correctly.\n",
    "\n",
    "\n"
   ]
  },
  {
   "cell_type": "code",
   "execution_count": 158,
   "id": "bf02bdf2-b2b3-440b-ad5f-e351ea993688",
   "metadata": {},
   "outputs": [],
   "source": [
    "# Original products list\n",
    "products_list= [\"t-shirt\", \"mug\", \"hat\", \"book\", \"keychain\"]\n",
    "\n",
    "#1 Function to input inventory\n",
    "def initialize_inventory(products):\n",
    "\n",
    "    inventory = {}\n",
    "    # print(type(inventory))\n",
    "\n",
    "    for product in products:\n",
    "        quantity = int(input(f\"Number of {product} left\"))\n",
    "        inventory.update({product:quantity})\n",
    "   \n",
    "    return inventory"
   ]
  },
  {
   "cell_type": "code",
   "execution_count": 159,
   "id": "2c589a7d-c7db-462a-b442-b8731df13b4c",
   "metadata": {},
   "outputs": [
    {
     "name": "stdin",
     "output_type": "stream",
     "text": [
      "Number of t-shirt left 5\n",
      "Number of mug left 1\n",
      "Number of hat left 5\n",
      "Number of book left 5\n",
      "Number of keychain left 5\n"
     ]
    }
   ],
   "source": [
    "orig_inventory=initialize_inventory(products_list)\n",
    "#print(orig_inventory)"
   ]
  },
  {
   "cell_type": "code",
   "execution_count": 160,
   "id": "3bcc1741-c089-4e1b-8f4d-e28412605615",
   "metadata": {},
   "outputs": [],
   "source": [
    "#2 Function to input the customer orders\n",
    "def get_customer_orders():\n",
    "    customer_orders = set()\n",
    "    user_intention = \"yes\"\n",
    "\n",
    "    while user_intention == \"yes\":\n",
    "        item = input(\"Customer order (items available: 't-shirt', 'mug', 'hat', 'book', 'keychain')\")\n",
    "        customer_orders.add(item)\n",
    "        user_intention = input(\"Do you wish to continue placing order, yes or no?\")\n",
    "    \n",
    "    return customer_orders"
   ]
  },
  {
   "cell_type": "code",
   "execution_count": 161,
   "id": "4e0fcbb3-a641-4927-a204-fe4c89632fd6",
   "metadata": {},
   "outputs": [
    {
     "name": "stdin",
     "output_type": "stream",
     "text": [
      "Customer order (items available: 't-shirt', 'mug', 'hat', 'book', 'keychain') mug\n",
      "Do you wish to continue placing order, yes or no? yes\n",
      "Customer order (items available: 't-shirt', 'mug', 'hat', 'book', 'keychain') hat\n",
      "Do you wish to continue placing order, yes or no? yes\n",
      "Customer order (items available: 't-shirt', 'mug', 'hat', 'book', 'keychain') book\n",
      "Do you wish to continue placing order, yes or no? no\n"
     ]
    },
    {
     "name": "stdout",
     "output_type": "stream",
     "text": [
      "Customer Orders:  {'mug', 'book', 'hat'}\n"
     ]
    }
   ],
   "source": [
    "#print(get_customer_orders())\n",
    "#x=get_customer_orders()\n",
    "orig_customer_orders=get_customer_orders()\n",
    "print(\"Customer Orders: \",orig_customer_orders)\n"
   ]
  },
  {
   "cell_type": "code",
   "execution_count": 162,
   "id": "d4b6acf4-30eb-4f09-9e39-79b4b07cc9f2",
   "metadata": {},
   "outputs": [],
   "source": [
    "#3 Update inventory\n",
    "upd_inventory=orig_inventory.copy()\n",
    "# if we hadn't created the \"upd_inventory\" copy of the \"orig_inventory\", it would automatically update the original inventory.\n",
    "#print(upd_inventory)\n",
    "\n",
    "def update_inventory(customer_orders,inventory):\n",
    "   \n",
    "    for key, value in inventory.items():\n",
    "        for i in customer_orders:\n",
    "            if key == i:\n",
    "                inventory[key]=value-1\n",
    "                   \n",
    "    for key, value in list(inventory.items()):\n",
    "        if value == 0:\n",
    "            inventory.pop(key)\n",
    "            \n",
    "    return inventory"
   ]
  },
  {
   "cell_type": "code",
   "execution_count": 163,
   "id": "82f9b460-4b29-4404-94e6-1734e737dcbc",
   "metadata": {},
   "outputs": [
    {
     "name": "stdout",
     "output_type": "stream",
     "text": [
      "Original inventory:  {'t-shirt': 5, 'mug': 1, 'hat': 5, 'book': 5, 'keychain': 5}\n",
      "Updated inventory:  {'t-shirt': 5, 'hat': 4, 'book': 4, 'keychain': 5}\n"
     ]
    }
   ],
   "source": [
    "upd_inventory = update_inventory(orig_customer_orders,upd_inventory)\n",
    "print(\"Original inventory: \",orig_inventory)\n",
    "print(\"Updated inventory: \",upd_inventory)"
   ]
  },
  {
   "cell_type": "code",
   "execution_count": 164,
   "id": "2931ece6-f0ec-41e3-9775-82a5a17cd796",
   "metadata": {},
   "outputs": [],
   "source": [
    "#4 Calculation of statistics\n",
    "def calculate_order_statistics(customer_orders,products):\n",
    "    percentage_order=len(customer_orders)/sum(products.values())*100\n",
    "    return len(customer_orders),percentage_order"
   ]
  },
  {
   "cell_type": "code",
   "execution_count": 165,
   "id": "59b89436-33da-4b72-962f-3428c314e891",
   "metadata": {},
   "outputs": [],
   "source": [
    "upd_order_statistics=calculate_order_statistics(orig_customer_orders,orig_inventory)"
   ]
  },
  {
   "cell_type": "code",
   "execution_count": 166,
   "id": "7ba20157-4d6d-4747-b2b0-7a17c7b1aaad",
   "metadata": {},
   "outputs": [
    {
     "name": "stdout",
     "output_type": "stream",
     "text": [
      "Order Statistics:\n",
      "Total Products Ordered: 3\n",
      "Percentage of Products Ordered: 14.285714285714285%\n"
     ]
    }
   ],
   "source": [
    "#5 Print order statistics\n",
    "def print_order_statistics(order_statistics):\n",
    "    print(f\"\"\"Order Statistics:\n",
    "Total Products Ordered: {order_statistics[0]}\n",
    "Percentage of Products Ordered: {order_statistics[1]}%\"\"\")\n",
    "    \n",
    "print_order_stats=print_order_statistics(upd_order_statistics)"
   ]
  },
  {
   "cell_type": "code",
   "execution_count": 167,
   "id": "db3cfafc-9165-4ed4-8910-bfb2651cb39a",
   "metadata": {},
   "outputs": [
    {
     "name": "stdout",
     "output_type": "stream",
     "text": [
      "Item: t-shirt\n",
      "Quantity: 5\n",
      "        \n",
      "Item: hat\n",
      "Quantity: 4\n",
      "        \n",
      "Item: book\n",
      "Quantity: 4\n",
      "        \n",
      "Item: keychain\n",
      "Quantity: 5\n",
      "        \n"
     ]
    }
   ],
   "source": [
    "#6 Print updated inventory\n",
    "def print_updated_inventory(inventory):\n",
    "    for key, value in inventory.items():\n",
    "        print(f\"\"\"Item: {key}\n",
    "Quantity: {value}\n",
    "        \"\"\")\n",
    "\n",
    "updated_inventory=print_updated_inventory(upd_inventory)"
   ]
  },
  {
   "cell_type": "code",
   "execution_count": 168,
   "id": "17833e02-7e3d-48cc-804d-f4b58a0f5d75",
   "metadata": {},
   "outputs": [],
   "source": [
    "# Alternative to filtering the values = 0   \n",
    "    # inventory_2=inventory.copy()             \n",
    "    # for key, value in inventory_2.items():\n",
    "        # inventory_2=inventory\n",
    "        # if value <=0:\n",
    "            # inventory_2.pop(key)\n",
    "            \n",
    "    # return inventory_2\n"
   ]
  }
 ],
 "metadata": {
  "kernelspec": {
   "display_name": "Python 3 (ipykernel)",
   "language": "python",
   "name": "python3"
  },
  "language_info": {
   "codemirror_mode": {
    "name": "ipython",
    "version": 3
   },
   "file_extension": ".py",
   "mimetype": "text/x-python",
   "name": "python",
   "nbconvert_exporter": "python",
   "pygments_lexer": "ipython3",
   "version": "3.11.7"
  }
 },
 "nbformat": 4,
 "nbformat_minor": 5
}
